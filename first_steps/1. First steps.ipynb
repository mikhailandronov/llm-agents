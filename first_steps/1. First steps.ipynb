{
 "cells": [
  {
   "cell_type": "markdown",
   "id": "bbb1d590",
   "metadata": {},
   "source": [
    "#pip install crewai"
   ]
  },
  {
   "cell_type": "code",
   "execution_count": 6,
   "id": "a8f3b0d4",
   "metadata": {},
   "outputs": [
    {
     "name": "stdout",
     "output_type": "stream",
     "text": [
      "Конечно! Вот основные преимущества использования Python:\n",
      "\n",
      "1. Простота и читаемость кода — Python обладает лаконичным синтаксисом, что облегчает написание и поддержку программ.\n",
      "2. Высокий уровень абстракции — позволяет быстро разрабатывать решения без необходимости управлять низкоуровневыми деталями.\n",
      "3. Большая стандартная библиотека — включает множество модулей для работы с файлами, сетью, базами данных и другими задачами.\n",
      "4. Многообразие сторонних библиотек и фреймворков — например, NumPy, Pandas, Django, Flask, что ускоряет разработку в различных сферах.\n",
      "5. Кроссплатформенность — Python работает\n"
     ]
    }
   ],
   "source": [
    "import os\n",
    "from dotenv import load_dotenv\n",
    "from openai import OpenAI\n",
    "\n",
    "load_dotenv() # Загружает переменные из .env файла в окружение\n",
    "\n",
    "# Получение ключа из переменной окружения\n",
    "api_key = os.getenv('OPENAI_API_KEY')\n",
    "if api_key is None:\n",
    "    raise ValueError(\"API ключ не найден! Убедитесь, что переменная OPENAI_API_KEY установлена.\")\n",
    "\n",
    "client = OpenAI(\n",
    "    api_key=api_key,\n",
    "    base_url=\"https://api.proxyapi.ru/openai/v1\",\n",
    ")\n",
    "\n",
    "# Далее ваш код для обращения к API...\n",
    "completion = client.chat.completions.create(\n",
    "    model=\"gpt-4.1-nano\",\n",
    "    messages=[\n",
    "        {\"role\": \"system\", \"content\": \"Ты помощник по программированию.\"},\n",
    "        {\"role\": \"user\", \"content\": \"Расскажи о преимуществах использования Python.\"}\n",
    "    ],\n",
    "    temperature=0.7,\n",
    "    max_tokens=150,\n",
    ")\n",
    "\n",
    "print(completion.choices[0].message.content)"
   ]
  },
  {
   "cell_type": "code",
   "execution_count": null,
   "id": "98858b0a",
   "metadata": {},
   "outputs": [],
   "source": [
    "import os\n",
    "from dotenv import load_dotenv, find_dotenv\n",
    "from openai import OpenAI\n",
    "\n",
    "load_dotenv(find_dotenv()) # Загружает переменные из .env файла в окружение\n",
    "# Получение ключа из переменной окружения\n",
    "api_key = os.getenv('OPENAI_API_KEY')\n",
    "\n",
    "if api_key is None:\n",
    "    raise ValueError(\"API ключ не найден! Убедитесь, что переменная OPENAI_API_KEY установлена.\")\n",
    "\n",
    "client = OpenAI(\n",
    "    api_key=api_key,\n",
    "    base_url=\"https://api.proxyapi.ru/openai/v1\",\n",
    ")\n",
    "\n",
    "prompt = \"\"\"\n",
    "Стеклянная бутылка, внутри которой плывет корабль посреди шторма\n",
    "\"\"\"\n",
    "\n",
    "result = client.images.generate(\n",
    "    model=\"dall-e-3\",\n",
    "    prompt=prompt\n",
    ")\n",
    "\n",
    "image_url = result.data[0].url\n",
    "print(image_url)"
   ]
  }
 ],
 "metadata": {
  "kernelspec": {
   "display_name": ".venv",
   "language": "python",
   "name": "python3"
  },
  "language_info": {
   "codemirror_mode": {
    "name": "ipython",
    "version": 3
   },
   "file_extension": ".py",
   "mimetype": "text/x-python",
   "name": "python",
   "nbconvert_exporter": "python",
   "pygments_lexer": "ipython3",
   "version": "3.12.3"
  }
 },
 "nbformat": 4,
 "nbformat_minor": 5
}
